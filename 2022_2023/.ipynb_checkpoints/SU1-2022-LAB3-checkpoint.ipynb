{
 "cells": [
  {
   "cell_type": "markdown",
   "metadata": {},
   "source": [
    "Sveučilište u Zagrebu  \n",
    "Fakultet elektrotehnike i računarstva  \n",
    "  \n",
    "## Strojno učenje 1 2022/2023  \n",
    "http://www.fer.unizg.hr/predmet/struce1"
   ]
  },
  {
   "cell_type": "markdown",
   "metadata": {},
   "source": [
    "------------------------------\n",
    "\n",
    "### Treća laboratorijska vježba: Stroj potpornih vektora i neparametarske metode\n",
    "\n",
    "*Verzija: 1.0 \n",
    "Zadnji put ažurirano: 1. listopada 2021.*\n",
    "\n",
    "(c) 2015-2022 Jan Šnajder, Domagoj Alagić  \n",
    "\n",
    "Rok za predaju: **11. prosinca 2022. u 23:59h**  \n",
    "\n",
    "------------------------------"
   ]
  },
  {
   "cell_type": "markdown",
   "metadata": {},
   "source": [
    "### Upute\n",
    "\n",
    "Treća laboratorijska vježba sastoji se od osam zadataka. U nastavku slijedite upute navedene u ćelijama s tekstom. Rješavanje vježbe svodi se na **dopunjavanje ove bilježnice**: umetanja ćelije ili više njih **ispod** teksta zadatka, pisanja odgovarajućeg kôda te evaluiranja ćelija. \n",
    "\n",
    "Osigurajte da u potpunosti **razumijete** kôd koji ste napisali. Kod predaje vježbe, morate biti u stanju na zahtjev asistenta (ili demonstratora) preinačiti i ponovno evaluirati Vaš kôd. Nadalje, morate razumjeti teorijske osnove onoga što radite, u okvirima onoga što smo obradili na predavanju. Ispod nekih zadataka možete naći i pitanja koja služe kao smjernice za bolje razumijevanje gradiva (**nemojte pisati** odgovore na pitanja u bilježnicu). Stoga se nemojte ograničiti samo na to da riješite zadatak, nego slobodno eksperimentirajte. To upravo i jest svrha ovih vježbi.\n",
    "\n",
    "Vježbe trebate raditi **samostalno**. Možete se konzultirati s drugima o načelnom načinu rješavanja, ali u konačnici morate sami odraditi vježbu. U protivnome vježba nema smisla."
   ]
  },
  {
   "cell_type": "code",
   "execution_count": 3,
   "metadata": {},
   "outputs": [],
   "source": [
    "import numpy as np\n",
    "import pandas as pd\n",
    "import matplotlib.pyplot as plt\n",
    "from sklearn.datasets import make_classification\n",
    "%matplotlib inline"
   ]
  },
  {
   "cell_type": "code",
   "execution_count": 4,
   "metadata": {},
   "outputs": [],
   "source": [
    "def plot_2d_svc_problem(X, y, svc=None):\n",
    "    '''\n",
    "    Plots a two-dimensional labeled dataset (X,y) and, if SVC object is given, \n",
    "    the decision surfaces (with margin as well).\n",
    "    '''\n",
    "    assert X.shape[1] == 2, \"Dataset is not two-dimensional\"\n",
    "    if svc!=None : \n",
    "        # Create a mesh to plot in\n",
    "        r = 0.03  # mesh resolution\n",
    "        x_min, x_max = X[:, 0].min() - 1, X[:, 0].max() + 1\n",
    "        y_min, y_max = X[:, 1].min() - 1, X[:, 1].max() + 1\n",
    "        xx, yy = np.meshgrid(np.arange(x_min, x_max, r),\n",
    "                             np.arange(y_min, y_max, r))\n",
    "        XX=np.c_[xx.ravel(), yy.ravel()]\n",
    "        Z = np.array([svc_predict(svc, x) for x in XX])\n",
    "        # Put the result into a color plot\n",
    "        Z = Z.reshape(xx.shape)\n",
    "        plt.contourf(xx, yy, Z, cmap=plt.cm.Pastel1)\n",
    "\n",
    "    # Plot the dataset\n",
    "    plt.scatter(X[:,0],X[:,1], c=y, cmap=plt.cm.Paired, marker='o', s=50)\n",
    "    \n",
    "def plot_2d_clf_problem(X, y, h=None):\n",
    "    '''\n",
    "    Plots a two-dimensional labeled dataset (X,y) and, if function h(x) is given, \n",
    "    the decision surfaces.\n",
    "    '''\n",
    "    assert X.shape[1] == 2, \"Dataset is not two-dimensional\"\n",
    "    if h!=None : \n",
    "        # Create a mesh to plot in\n",
    "        r = 0.03  # mesh resolution\n",
    "        x_min, x_max = X[:, 0].min() - 1, X[:, 0].max() + 1\n",
    "        y_min, y_max = X[:, 1].min() - 1, X[:, 1].max() + 1\n",
    "        xx, yy = np.meshgrid(np.arange(x_min, x_max, r),\n",
    "                             np.arange(y_min, y_max, r))\n",
    "        XX=np.c_[xx.ravel(), yy.ravel()]\n",
    "        try:\n",
    "            Z_test = h(XX)\n",
    "            if Z_test.shape == ():\n",
    "                # h returns a scalar when applied to a matrix; map explicitly\n",
    "                Z = np.array(list(map(h,XX)))\n",
    "            else :\n",
    "                Z = Z_test\n",
    "        except ValueError:\n",
    "            # can't apply to a matrix; map explicitly\n",
    "            Z = np.array(list(map(h,XX)))\n",
    "        # Put the result into a color plot\n",
    "        Z = Z.reshape(xx.shape)\n",
    "        plt.contourf(xx, yy, Z, cmap=plt.cm.Pastel1)\n",
    "\n",
    "    # Plot the dataset\n",
    "    plt.scatter(X[:,0],X[:,1], c=y, cmap=plt.cm.tab20b, marker='o', s=50);\n",
    "\n",
    "def svc_predict(svc, x) : \n",
    "    h = svc.decision_function([x])\n",
    "    if np.isclose(h, 0, atol=0.03):\n",
    "        return 5\n",
    "    elif (h >= -1 and h < -0.03) or (h > 0.03 and h <= 1):\n",
    "        return 0.5\n",
    "    else: \n",
    "        return max(-1, min(1, h))\n",
    "    \n",
    "def plot_error_surface(err, c_range=(0,5), g_range=(0,5)):\n",
    "    c1, c2 = c_range[0], c_range[1]\n",
    "    g1, g2 = g_range[0], g_range[1]\n",
    "    plt.xticks(range(0,g2-g1+1,5),range(g1,g2+1,5)); plt.xlabel(\"gamma\")\n",
    "    plt.yticks(range(0,c2-c1+1,5),range(c1,c2+1,5)); plt.ylabel(\"C\")\n",
    "    p = plt.contour(err);\n",
    "    plt.imshow(1-err, interpolation='bilinear', origin='lower',cmap=plt.cm.gray)\n",
    "    plt.clabel(p, inline=1, fontsize=10)\n",
    "\n",
    "def knn_eval(n_instances=100, n_features=2, n_classes=2, n_informative=2, \n",
    "             test_size=0.3, k_range=(1, 20), n_trials=40):\n",
    "    \n",
    "    train_errors = []\n",
    "    test_errors = []\n",
    "    ks = list(range(k_range[0], k_range[1] + 1))\n",
    "\n",
    "    for i in range(0, n_trials):\n",
    "        X, y = make_classification(n_instances, n_features, n_classes=n_classes, \n",
    "                                   n_informative=n_informative, n_redundant=0, n_clusters_per_class=1)\n",
    "        X_train, X_test, y_train, y_test = train_test_split(X, y, test_size=test_size)\n",
    "        train = []\n",
    "        test = []\n",
    "        for k in ks:\n",
    "            knn = KNeighborsClassifier(n_neighbors=k)\n",
    "            knn.fit(X_train, y_train)\n",
    "            train.append(1 - knn.score(X_train, y_train))\n",
    "            test.append(1 - knn.score(X_test, y_test))\n",
    "        train_errors.append(train)\n",
    "        test_errors.append(test)\n",
    "        \n",
    "    train_errors = np.mean(np.array(train_errors), axis=0)\n",
    "    test_errors = np.mean(np.array(test_errors), axis=0)\n",
    "    best_k = ks[np.argmin(test_errors)]\n",
    "    \n",
    "    return ks, best_k, train_errors, test_errors"
   ]
  },
  {
   "cell_type": "markdown",
   "metadata": {},
   "source": [
    "### 1. Klasifikator stroja potpornih vektora (SVM)"
   ]
  },
  {
   "cell_type": "markdown",
   "metadata": {},
   "source": [
    "#### (a)"
   ]
  },
  {
   "cell_type": "markdown",
   "metadata": {},
   "source": [
    "Upoznajte se s razredom [`svm.SVC`](http://scikit-learn.org/stable/modules/generated/sklearn.svm.SVC.html), koja ustvari implementira sučelje prema implementaciji [`libsvm`](http://www.csie.ntu.edu.tw/~cjlin/libsvm/). Primijenite model `SVC` s linearnom jezgrenom funkcijom (tj. bez preslikavanja primjera u prostor značajki) na skup podataka `seven` (dan niže) s $N=7$ primjera. Ispišite koeficijente $w_0$ i $\\mathbf{w}$. Ispišite dualne koeficijente i potporne vektore. Završno, koristeći funkciju `plot_2d_svc_problem` iscrtajte podatke, decizijsku granicu i marginu. Funkcija prima podatke, oznake i klasifikator (objekt klase `SVC`). "
   ]
  },
  {
   "cell_type": "code",
   "execution_count": 6,
   "metadata": {},
   "outputs": [],
   "source": [
    "from sklearn.svm import SVC\n",
    "\n",
    "seven_X = np.array([[2,1], [2,3], [1,2], [3,2], [5,2], [5,4], [6,3]])\n",
    "seven_y = np.array([1, 1, 1, 1, -1, -1, -1])"
   ]
  },
  {
   "cell_type": "code",
   "execution_count": 12,
   "metadata": {},
   "outputs": [
    {
     "data": {
      "image/png": "[encoded data removed]",
      "text/plain": [
       "<Figure size 640x480 with 1 Axes>"
      ]
     },
     "metadata": {},
     "output_type": "display_data"
    }
   ],
   "source": [
    "svc_first = SVC(kernel='linear')\n",
    "svc_first.fit(seven_X, seven_y)\n",
    "\n",
    "plot_2d_svc_problem(seven_X, seven_y, svc_first)"
   ]
  },
  {
   "cell_type": "markdown",
   "metadata": {},
   "source": [
    "**Q:** Koji primjeri su potporni vektori i zašto?"
   ]
  },
  {
   "cell_type": "markdown",
   "metadata": {},
   "source": [
    "#### (b)"
   ]
  },
  {
   "cell_type": "markdown",
   "metadata": {},
   "source": [
    "Definirajte funkciju `hinge(model, x, y)` koja izračunava gubitak zglobnice modela SVM na primjeru `x`. Izračunajte gubitke modela naučenog na skupu `seven` za primjere $\\mathbf{x}^{(2)}=(3,2)$ i $\\mathbf{x}^{(1)}=(3.5,2)$ koji su označeni pozitivno ($y=1$) te za $\\mathbf{x}^{(3)}=(4,2)$ koji je označen negativno ($y=-1$). Također, izračunajte prosječni gubitak SVM-a na skupu `seven`. Uvjerite se da je rezultat identičan onome koji biste dobili primjenom ugrađene funkcije [`metrics.hinge_loss`](http://scikit-learn.org/stable/modules/generated/sklearn.metrics.hinge_loss.html)."
   ]
  },
  {
   "cell_type": "code",
   "execution_count": 45,
   "metadata": {},
   "outputs": [
    {
     "name": "stdout",
     "output_type": "stream",
     "text": [
      "Loss for example [3, 2] with label 1 is: [0.00019531]\n",
      "Loss for example [3.5, 2] with label 1 is: [0.50004883]\n",
      "Loss for example [4, 2] with label -1 is: [1.00009766]\n",
      "\n",
      "Loss calculated with out hinge function: 0.5001139322916662\n",
      "Loss calculated with metric.hinge_loss: 0.5001139322916662\n"
     ]
    }
   ],
   "source": [
    "from sklearn.metrics import hinge_loss\n",
    "\n",
    "def hinge(model, x, y):\n",
    "    y_hat = model.decision_function(x)\n",
    "    return max(0, 1 - y * y_hat)\n",
    "    \n",
    "data_task_b = [[3,2], [3.5,2], [4,2]]\n",
    "data_task_b_y = [1, 1, -1]\n",
    "\n",
    "loss = []\n",
    "for x_, y_, in zip(data_task_b, data_task_b_y):\n",
    "    loss_ = hinge(svc_first, [x_], y_)\n",
    "    loss.extend(loss_)\n",
    "    print(f'Loss for example {x_} with label {y_} is: {loss_}')\n",
    "\n",
    "print()\n",
    "print(f'Loss calculated with out hinge function: {average(loss)}')\n",
    "print(f'Loss calculated with metric.hinge_loss: {hinge_loss([1, 1, -1], svc_first.decision_function(data_added))}')"
   ]
  },
  {
   "cell_type": "markdown",
   "metadata": {},
   "source": [
    "#### (c)"
   ]
  },
  {
   "cell_type": "markdown",
   "metadata": {},
   "source": [
    "Vratit ćemo se na skupove podataka `outlier` ($N=8$) i `unsep` ($N=8$) iz prošle laboratorijske vježbe (dani niže) i pogledati kako se model SVM-a nosi s njima. Naučite ugrađeni model SVM-a (s linearnom jezgrom) na ovim podatcima i iscrtajte decizijsku granicu (skupa s marginom). Također ispišite točnost modela korištenjem funkcije [`metrics.accuracy_score`](http://scikit-learn.org/stable/modules/generated/sklearn.metrics.accuracy_score.html)."
   ]
  },
  {
   "cell_type": "code",
   "execution_count": 47,
   "metadata": {},
   "outputs": [],
   "source": [
    "from sklearn.metrics import accuracy_score\n",
    "\n",
    "outlier_X = np.append(seven_X, [[12,8]], axis=0)\n",
    "outlier_y = np.append(seven_y, -1)\n",
    "\n",
    "unsep_X = np.append(seven_X, [[2,2]], axis=0)\n",
    "unsep_y = np.append(seven_y, -1)"
   ]
  },
  {
   "cell_type": "code",
   "execution_count": 50,
   "metadata": {},
   "outputs": [
    {
     "data": {
      "text/plain": [
       "1.0"
      ]
     },
     "execution_count": 50,
     "metadata": {},
     "output_type": "execute_result"
    },
    {
     "data": {
      "image/png": "[encoded data removed]",
      "text/plain": [
       "<Figure size 640x480 with 1 Axes>"
      ]
     },
     "metadata": {},
     "output_type": "display_data"
    }
   ],
   "source": [
    "svc_second = SVC(kernel='linear')\n",
    "svc_second.fit(outlier_X, outlier_y)\n",
    "\n",
    "plot_2d_svc_problem(outlier_X, outlier_y, svc_second)\n",
    "accuracy_score(outlier_y, svc_second.predict(outlier_X))"
   ]
  },
  {
   "cell_type": "code",
   "execution_count": 51,
   "metadata": {},
   "outputs": [
    {
     "data": {
      "text/plain": [
       "0.875"
      ]
     },
     "execution_count": 51,
     "metadata": {},
     "output_type": "execute_result"
    },
    {
     "data": {
      "image/png": "[encoded data removed]",
      "text/plain": [
       "<Figure size 640x480 with 1 Axes>"
      ]
     },
     "metadata": {},
     "output_type": "display_data"
    }
   ],
   "source": [
    "svc_third = SVC(kernel='linear')\n",
    "svc_third.fit(unsep_X, unsep_y)\n",
    "\n",
    "plot_2d_svc_problem(unsep_X, unsep_y, svc_third)\n",
    "accuracy_score(unsep_y, svc_third.predict(unsep_X))"
   ]
  },
  {
   "cell_type": "markdown",
   "metadata": {},
   "source": [
    "**Q:** Kako stršeća vrijednost utječe na SVM?  \n",
    "**Q:** Kako se linearan SVM nosi s linearno neodvojivim skupom podataka?"
   ]
  },
  {
   "cell_type": "markdown",
   "metadata": {},
   "source": [
    "### 2. Nelinearan SVM"
   ]
  },
  {
   "cell_type": "markdown",
   "metadata": {},
   "source": [
    "Ovaj zadatak pokazat će kako odabir jezgre utječe na kapacitet SVM-a. Na skupu `unsep` iz prošlog zadatka trenirajte tri modela SVM-a s različitim jezgrenim funkcijama: linearnom, polinomijalnom i radijalnom baznom (RBF) funkcijom. Varirajte hiperparametar $C$ po vrijednostima $C\\in\\{10^{-2},1,10^2\\}$, dok za ostale hiperparametre (stupanj polinoma za polinomijalnu jezgru odnosno hiperparametar $\\gamma$ za jezgru RBF) koristite podrazumijevane vrijednosti. Prikažite granice između klasa (i margine) na grafikonu organiziranome u polje $3x3$, gdje su stupci različite jezgre, a retci različite vrijednosti parametra $C$."
   ]
  },
  {
   "cell_type": "code",
   "execution_count": 65,
   "metadata": {},
   "outputs": [
    {
     "name": "stdout",
     "output_type": "stream",
     "text": [
      "Finished training kernel: 'linear', C: 0.01\n",
      "Finished training kernel: 'poly', C: 0.01\n",
      "Finished training kernel: 'rbf', C: 0.01\n",
      "Finished training kernel: 'linear', C: 1\n",
      "Finished training kernel: 'poly', C: 1\n",
      "Finished training kernel: 'rbf', C: 1\n",
      "Finished training kernel: 'linear', C: 100\n",
      "Finished training kernel: 'poly', C: 100\n",
      "Finished training kernel: 'rbf', C: 100\n"
     ]
    },
    {
     "data": {
      "image/png": "[encoded data removed]",
      "text/plain": [
       "<Figure size 1000x1000 with 9 Axes>"
      ]
     },
     "metadata": {},
     "output_type": "display_data"
    }
   ],
   "source": [
    "plt.figure(figsize=(10, 10), dpi=100)\n",
    "\n",
    "graph = 1\n",
    "for C_ in (0.01, 1, 100):\n",
    "    for kernel_ in ('linear', 'poly', 'rbf'):\n",
    "        svc_grid = SVC(kernel=kernel_, C=C_)\n",
    "        svc_grid.fit(unsep_X, unsep_y)\n",
    "        \n",
    "        plt.subplot(3, 3, graph)\n",
    "        plt.title(f'kernel: \\'{kernel_}\\', C: {C_}')\n",
    "        plot_2d_svc_problem(unsep_X, unsep_y, svc_grid)\n",
    "        graph += 1\n",
    "        \n",
    "        print(f'Finished training kernel: \\'{kernel_}\\', C: {C_}')"
   ]
  },
  {
   "cell_type": "markdown",
   "metadata": {},
   "source": [
    "### 3. Optimizacija hiperparametara SVM-a"
   ]
  },
  {
   "cell_type": "markdown",
   "metadata": {},
   "source": [
    "Pored hiperparametra $C$, model SVM s jezgrenom funkcijom RBF ima i dodatni hiperparametar $\\gamma=\\frac{1}{2\\sigma^2}$ (preciznost). Taj parametar također određuje složenost modela: velika vrijednost za $\\gamma$ znači da će RBF biti uska, primjeri će biti preslikani u prostor u kojem su (prema skalarnome produktu) međusobno vrlo različiti, što će rezultirati složenijim modelima. Obrnuto, mala vrijednost za $\\gamma$ znači da će RBF biti široka, primjeri će biti međusobno sličniji, što će rezultirati jednostavnijim modelima. To ujedno znači da, ako odabremo veći $\\gamma$, trebamo jače regularizirati model, tj. trebamo odabrati manji $C$, kako bismo spriječili prenaučenost. Zbog toga je potrebno zajednički optimirati hiperparametre $C$ i $\\gamma$, što se tipično radi iscrpnim pretraživanjem po rešetci (engl. *grid search*). Ovakav pristup primjenjuje se kod svih modela koji sadrže više od jednog hiperparametra.\n"
   ]
  },
  {
   "cell_type": "markdown",
   "metadata": {},
   "source": [
    "#### (a)"
   ]
  },
  {
   "cell_type": "markdown",
   "metadata": {},
   "source": [
    "Definirajte funkciju \n",
    "\n",
    "> `grid_search(X_train, X_validate, y_train, y_validate, c_range=(c1,c2), g_range=(g1,g2), error_surface=False)` \n",
    "\n",
    "koja optimizira parametre $C$ i $\\gamma$ pretraživanjem po rešetci. Funkcija treba pretražiti hiperparametre $C\\in\\{2^{c_1},2^{c_1+1},\\dots,2^{c_2}\\}$ i $\\gamma\\in\\{2^{g_1},2^{g_1+1},\\dots,2^{g_2}\\}$. Funkcija treba vratiti optimalne hiperparametre $(C^*,\\gamma^*)$, tj. one za koje na skupu za provjeru model ostvaruju najmanju pogrešku. Dodatno, ako je `surface=True`, funkcija treba vratiti matrice (tipa `ndarray`) pogreške modela (očekivanje gubitka 0-1) na skupu za učenje i skupu za provjeru. Svaka je matrica dimenzija $(c_2-c_1+1)\\times(g_2-g_1+1)$ (retci odgovaraju različitim vrijednostima za $C$, a stupci različitim vrijednostima za $\\gamma$)."
   ]
  },
  {
   "cell_type": "code",
   "execution_count": 121,
   "metadata": {},
   "outputs": [],
   "source": [
    "from sklearn.metrics import accuracy_score, zero_one_loss\n",
    "\n",
    "def grid_search(X_train, X_validate, y_train, y_validate, c_range=(0,5), g_range=(0,5), error_surface=False):\n",
    "    test_max_acc = 0\n",
    "    best_selection = None\n",
    "    errors_train = []\n",
    "    errors_test = []\n",
    "\n",
    "    for c_ in range(c_range[0], c_range[1]):\n",
    "        for g_ in range(g_range[0], g_range[1]):\n",
    "            svc_grid = SVC(kernel='rbf', C=2 ** c_, gamma=2 ** g_)\n",
    "            svc_grid.fit(X_train, y_train)\n",
    "            \n",
    "            acc = accuracy_score(y_validate, svc_grid.predict(X_validate))\n",
    "            if acc > test_max_acc:\n",
    "                best_selection = (2 ** c_, 2 ** g_)\n",
    "                test_max_acc = acc\n",
    "                \n",
    "            if error_surface:\n",
    "                errors_train.append(acc)\n",
    "                errors_test.append(accuracy_score(y_train, svc_grid.predict(X_train)))\n",
    "    return best_selection, np.array(errors_train).reshape(c_range[1] - c_range[0], g_range[1] - g_range[0]), np.array(errors_test).reshape(c_range[1] - c_range[0], g_range[1] - g_range[0])"
   ]
  },
  {
   "cell_type": "markdown",
   "metadata": {},
   "source": [
    "#### (b)"
   ]
  },
  {
   "cell_type": "markdown",
   "metadata": {},
   "source": [
    "Pomoću funkcije [`datasets.make_classification`](http://scikit-learn.org/stable/modules/generated/sklearn.datasets.make_classification.html) generirajte **dva** skupa podataka od $N=200$ primjera: jedan s $n=2$ dimenzije i drugi s $n=100$ dimenzija. Primjeri neka dolaze iz dviju klasa, s time da svakoj klasi odgovaraju dvije grupe (`n_clusters_per_class=2`), kako bi problem bio nešto složeniji, tj. nelinearniji. Neka sve značajke budu informativne. Podijelite skup primjera na skup za učenje i skup za ispitivanje u omjeru 1:1.\n",
    "\n",
    "Na oba skupa optimirajte SVM s jezgrenom funkcijom RBF, u rešetci $C\\in\\{2^{-5},2^{-4},\\dots,2^{15}\\}$ i $\\gamma\\in\\{2^{-15},2^{-14},\\dots,2^{3}\\}$. Prikažite površinu pogreške modela na skupu za učenje i skupu za provjeru, i to na oba skupa podataka (ukupno četiri grafikona) te ispišite optimalne kombinacije hiperparametara. Za prikaz površine pogreške modela možete koristiti funkciju `mlutils.plot_error_surface`."
   ]
  },
  {
   "cell_type": "code",
   "execution_count": 120,
   "metadata": {},
   "outputs": [
    {
     "name": "stdout",
     "output_type": "stream",
     "text": [
      "[[0.51 0.49]\n",
      " [0.51 0.49]\n",
      " [0.51 0.49]\n",
      " [0.51 0.49]\n",
      " [0.51 0.49]\n",
      " [0.51 0.49]\n",
      " [0.51 0.49]\n",
      " [0.51 0.49]\n",
      " [0.51 0.49]\n",
      " [0.51 0.49]\n",
      " [0.51 0.49]\n",
      " [0.51 0.49]\n",
      " [0.51 0.49]\n",
      " [0.51 0.49]\n",
      " [0.51 0.49]\n",
      " [0.51 0.49]\n",
      " [0.51 0.49]\n",
      " [0.51 0.49]\n",
      " [0.51 0.49]\n",
      " [0.51 0.49]\n",
      " [0.51 0.49]\n",
      " [0.51 0.49]\n",
      " [0.51 0.49]\n",
      " [0.51 0.49]\n",
      " [0.51 0.49]\n",
      " [0.51 0.49]\n",
      " [0.51 0.49]\n",
      " [0.51 0.49]\n",
      " [0.51 0.49]\n",
      " [0.51 0.49]\n",
      " [0.51 0.49]\n",
      " [0.51 0.49]\n",
      " [0.51 0.49]\n",
      " [0.51 0.49]\n",
      " [0.51 0.49]\n",
      " [0.51 0.49]\n",
      " [0.51 0.49]\n",
      " [0.51 0.49]\n",
      " [0.51 0.49]\n",
      " [0.51 0.49]\n",
      " [0.51 0.49]\n",
      " [0.51 0.49]\n",
      " [0.51 0.49]\n",
      " [0.51 0.49]\n",
      " [0.52 0.51]\n",
      " [0.82 0.83]\n",
      " [0.88 0.85]\n",
      " [0.57 0.49]\n",
      " [0.51 0.49]\n",
      " [0.51 0.49]\n",
      " [0.51 0.49]\n",
      " [0.51 0.49]\n",
      " [0.51 0.49]\n",
      " [0.51 0.49]\n",
      " [0.51 0.49]\n",
      " [0.51 0.49]\n",
      " [0.51 0.49]\n",
      " [0.51 0.49]\n",
      " [0.51 0.49]\n",
      " [0.51 0.49]\n",
      " [0.51 0.49]\n",
      " [0.75 0.64]\n",
      " [0.9  0.82]\n",
      " [0.91 0.86]\n",
      " [0.91 0.88]\n",
      " [0.94 0.87]\n",
      " [0.51 0.49]\n",
      " [0.51 0.49]\n",
      " [0.51 0.49]\n",
      " [0.51 0.49]\n",
      " [0.51 0.49]\n",
      " [0.51 0.49]\n",
      " [0.51 0.49]\n",
      " [0.51 0.49]\n",
      " [0.51 0.49]\n",
      " [0.51 0.49]\n",
      " [0.51 0.49]\n",
      " [0.51 0.49]\n",
      " [0.82 0.8 ]\n",
      " [0.9  0.82]\n",
      " [0.91 0.87]\n",
      " [0.92 0.88]\n",
      " [0.93 0.9 ]\n",
      " [0.96 0.89]\n",
      " [0.99 0.81]\n",
      " [0.85 0.49]\n",
      " [0.51 0.49]\n",
      " [0.51 0.49]\n",
      " [0.51 0.49]\n",
      " [0.51 0.49]\n",
      " [0.51 0.49]\n",
      " [0.51 0.49]\n",
      " [0.51 0.49]\n",
      " [0.51 0.49]\n",
      " [0.51 0.49]\n",
      " [0.83 0.8 ]\n",
      " [0.9  0.83]\n",
      " [0.91 0.87]\n",
      " [0.92 0.9 ]\n",
      " [0.93 0.9 ]\n",
      " [0.97 0.91]\n",
      " [0.98 0.92]\n",
      " [1.   0.88]\n",
      " [1.   0.76]\n",
      " [1.   0.49]\n",
      " [1.   0.49]\n",
      " [1.   0.49]\n",
      " [1.   0.49]\n",
      " [0.51 0.49]\n",
      " [0.51 0.49]\n",
      " [0.51 0.49]\n",
      " [0.51 0.49]\n",
      " [0.84 0.81]\n",
      " [0.9  0.84]\n",
      " [0.91 0.87]\n",
      " [0.93 0.91]\n",
      " [0.94 0.92]\n",
      " [0.96 0.93]\n",
      " [0.97 0.92]\n",
      " [1.   0.92]\n",
      " [1.   0.9 ]\n",
      " [1.   0.8 ]\n",
      " [1.   0.49]\n",
      " [1.   0.49]\n",
      " [1.   0.49]\n",
      " [1.   0.49]\n",
      " [0.51 0.49]\n",
      " [0.51 0.49]\n",
      " [0.51 0.49]\n",
      " [0.84 0.8 ]\n",
      " [0.9  0.84]\n",
      " [0.91 0.87]\n",
      " [0.93 0.91]\n",
      " [0.94 0.92]\n",
      " [0.96 0.93]\n",
      " [0.97 0.93]\n",
      " [0.98 0.93]\n",
      " [1.   0.89]\n",
      " [1.   0.9 ]\n",
      " [1.   0.8 ]\n",
      " [1.   0.49]\n",
      " [1.   0.49]\n",
      " [1.   0.49]\n",
      " [1.   0.49]\n",
      " [0.51 0.49]\n",
      " [0.51 0.49]\n",
      " [0.85 0.8 ]\n",
      " [0.9  0.84]\n",
      " [0.91 0.87]\n",
      " [0.93 0.91]\n",
      " [0.94 0.94]\n",
      " [0.95 0.93]\n",
      " [0.97 0.92]\n",
      " [0.98 0.92]\n",
      " [1.   0.89]\n",
      " [1.   0.89]\n",
      " [1.   0.9 ]\n",
      " [1.   0.8 ]\n",
      " [1.   0.49]\n",
      " [1.   0.49]\n",
      " [1.   0.49]\n",
      " [1.   0.49]\n",
      " [0.51 0.49]\n",
      " [0.85 0.8 ]\n",
      " [0.9  0.84]\n",
      " [0.91 0.87]\n",
      " [0.93 0.91]\n",
      " [0.94 0.94]\n",
      " [0.95 0.92]\n",
      " [0.96 0.92]\n",
      " [0.98 0.92]\n",
      " [1.   0.89]\n",
      " [1.   0.89]\n",
      " [1.   0.89]\n",
      " [1.   0.9 ]\n",
      " [1.   0.8 ]\n",
      " [1.   0.49]\n",
      " [1.   0.49]\n",
      " [1.   0.49]\n",
      " [1.   0.49]\n",
      " [0.85 0.81]\n",
      " [0.9  0.84]\n",
      " [0.91 0.87]\n",
      " [0.93 0.91]\n",
      " [0.94 0.94]\n",
      " [0.94 0.92]\n",
      " [0.96 0.92]\n",
      " [0.96 0.92]\n",
      " [0.98 0.92]\n",
      " [1.   0.85]\n",
      " [1.   0.89]\n",
      " [1.   0.89]\n",
      " [1.   0.9 ]\n",
      " [1.   0.8 ]\n",
      " [1.   0.49]\n",
      " [1.   0.49]\n",
      " [1.   0.49]\n",
      " [1.   0.49]\n",
      " [0.9  0.84]\n",
      " [0.91 0.87]\n",
      " [0.93 0.91]\n",
      " [0.94 0.94]\n",
      " [0.94 0.92]\n",
      " [0.96 0.93]\n",
      " [0.96 0.93]\n",
      " [0.98 0.92]\n",
      " [1.   0.85]\n",
      " [1.   0.85]\n",
      " [1.   0.89]\n",
      " [1.   0.89]\n",
      " [1.   0.9 ]\n",
      " [1.   0.8 ]\n",
      " [1.   0.49]\n",
      " [1.   0.49]\n",
      " [1.   0.49]\n",
      " [1.   0.49]\n",
      " [0.91 0.87]\n",
      " [0.93 0.91]\n",
      " [0.94 0.94]\n",
      " [0.94 0.92]\n",
      " [0.95 0.93]\n",
      " [0.94 0.93]\n",
      " [0.97 0.89]\n",
      " [0.98 0.91]\n",
      " [1.   0.86]\n",
      " [1.   0.85]\n",
      " [1.   0.89]\n",
      " [1.   0.89]\n",
      " [1.   0.9 ]\n",
      " [1.   0.8 ]\n",
      " [1.   0.49]\n",
      " [1.   0.49]\n",
      " [1.   0.49]\n",
      " [1.   0.49]\n",
      " [0.93 0.91]\n",
      " [0.94 0.94]\n",
      " [0.94 0.92]\n",
      " [0.95 0.93]\n",
      " [0.94 0.94]\n",
      " [0.95 0.9 ]\n",
      " [0.98 0.9 ]\n",
      " [1.   0.85]\n",
      " [1.   0.86]\n",
      " [1.   0.85]\n",
      " [1.   0.89]\n",
      " [1.   0.89]\n",
      " [1.   0.9 ]\n",
      " [1.   0.8 ]\n",
      " [1.   0.49]\n",
      " [1.   0.49]\n",
      " [1.   0.49]\n",
      " [1.   0.49]\n",
      " [0.94 0.94]\n",
      " [0.94 0.92]\n",
      " [0.95 0.93]\n",
      " [0.94 0.94]\n",
      " [0.95 0.92]\n",
      " [0.97 0.89]\n",
      " [0.98 0.87]\n",
      " [1.   0.86]\n",
      " [1.   0.86]\n",
      " [1.   0.85]\n",
      " [1.   0.89]\n",
      " [1.   0.89]\n",
      " [1.   0.9 ]\n",
      " [1.   0.8 ]\n",
      " [1.   0.49]\n",
      " [1.   0.49]\n",
      " [1.   0.49]\n",
      " [1.   0.49]\n",
      " [0.94 0.92]\n",
      " [0.95 0.93]\n",
      " [0.94 0.94]\n",
      " [0.95 0.91]\n",
      " [0.96 0.89]\n",
      " [0.98 0.89]\n",
      " [1.   0.86]\n",
      " [1.   0.86]\n",
      " [1.   0.86]\n",
      " [1.   0.85]\n",
      " [1.   0.89]\n",
      " [1.   0.89]\n",
      " [1.   0.9 ]\n",
      " [1.   0.8 ]\n",
      " [1.   0.49]\n",
      " [1.   0.49]\n",
      " [1.   0.49]\n",
      " [1.   0.49]\n",
      " [0.95 0.93]\n",
      " [0.94 0.94]\n",
      " [0.95 0.91]\n",
      " [0.96 0.89]\n",
      " [0.97 0.9 ]\n",
      " [0.98 0.86]\n",
      " [1.   0.86]\n",
      " [1.   0.86]\n",
      " [1.   0.86]\n",
      " [1.   0.85]\n",
      " [1.   0.89]\n",
      " [1.   0.89]\n",
      " [1.   0.9 ]\n",
      " [1.   0.8 ]\n",
      " [1.   0.49]\n",
      " [1.   0.49]\n",
      " [1.   0.49]\n",
      " [1.   0.49]\n",
      " [0.94 0.94]\n",
      " [0.95 0.91]\n",
      " [0.96 0.88]\n",
      " [0.96 0.91]\n",
      " [0.98 0.87]\n",
      " [1.   0.84]\n",
      " [1.   0.86]\n",
      " [1.   0.86]\n",
      " [1.   0.86]\n",
      " [1.   0.85]\n",
      " [1.   0.89]\n",
      " [1.   0.89]\n",
      " [1.   0.9 ]\n",
      " [1.   0.8 ]\n",
      " [1.   0.49]\n",
      " [1.   0.49]\n",
      " [1.   0.49]\n",
      " [1.   0.49]\n",
      " [0.95 0.91]\n",
      " [0.96 0.88]\n",
      " [0.96 0.9 ]\n",
      " [0.97 0.9 ]\n",
      " [0.98 0.86]\n",
      " [1.   0.84]\n",
      " [1.   0.86]\n",
      " [1.   0.86]\n",
      " [1.   0.86]\n",
      " [1.   0.85]\n",
      " [1.   0.89]\n",
      " [1.   0.89]\n",
      " [1.   0.9 ]\n",
      " [1.   0.8 ]\n",
      " [1.   0.49]\n",
      " [1.   0.49]\n",
      " [1.   0.49]\n",
      " [1.   0.49]\n",
      " [0.96 0.89]\n",
      " [0.96 0.9 ]\n",
      " [0.97 0.91]\n",
      " [0.98 0.89]\n",
      " [1.   0.84]\n",
      " [1.   0.84]\n",
      " [1.   0.86]\n",
      " [1.   0.86]\n",
      " [1.   0.86]\n",
      " [1.   0.85]\n",
      " [1.   0.89]\n",
      " [1.   0.89]\n",
      " [1.   0.9 ]\n",
      " [1.   0.8 ]\n",
      " [1.   0.49]\n",
      " [1.   0.49]\n",
      " [1.   0.49]\n",
      " [1.   0.49]]\n"
     ]
    },
    {
     "data": {
      "image/png": "[encoded data removed]",
      "text/plain": [
       "<Figure size 640x480 with 1 Axes>"
      ]
     },
     "metadata": {},
     "output_type": "display_data"
    }
   ],
   "source": [
    "from sklearn.datasets import make_classification\n",
    "from sklearn.model_selection import train_test_split\n",
    "\n",
    "n2_X, n2_y = make_classification(n_samples=200, n_classes=2, n_clusters_per_class=2)\n",
    "n100_X, n100_y = make_classification(n_samples=200, n_classes=2, n_clusters_per_class=2)\n",
    "\n",
    "n2_X_train, n2_X_test, n2_y_train, n2_y_test = train_test_split(n2_X, n2_y, test_size=0.5)\n",
    "n100_X_train, n100_X_test, n100_y_train, n100_y_test = train_test_split(n100_X, n100_y, test_size=0.5)\n",
    "\n",
    "optim_2, errors_2_train, errors_2_test = grid_search(n2_X_train, n2_X_test, n2_y_train, n2_y_test, (-5, 15), (-15, 3), True)\n",
    "plot_error_surface(errors_2_test, (-5, 15), (-15, 3))\n",
    "plot_error_surface(errors_2_train, (-5, 15), (-15, 3))\n",
    "optim_100, errors_100_train, errors_100_test = grid_search(n100_X_train, n100_X_test, n100_y_train, n100_y_test, (-5, 15), (-15, 3), True)\n",
    "plot_error_surface(errors_100_train, (-5, 15), (-15, 3))"
   ]
  },
  {
   "cell_type": "markdown",
   "metadata": {},
   "source": [
    "**Q:** Razlikuje li se površina pogreške na skupu za učenje i skupu za ispitivanje? Zašto?  \n",
    "**Q:** U prikazu površine pogreške, koji dio površine odgovara prenaučenosti, a koji podnaučenosti? Zašto?  \n",
    "**Q:** Kako broj dimenzija $n$ utječe na površinu pogreške, odnosno na optimalne hiperparametre $(C^*, \\gamma^*)$?  \n",
    "**Q:** Preporuka je da povećanje vrijednosti za $\\gamma$ treba biti popraćeno smanjenjem vrijednosti za $C$. Govore li vaši rezultati u prilog toj preporuci? Obrazložite.  "
   ]
  },
  {
   "cell_type": "markdown",
   "metadata": {},
   "source": [
    "### 4. Utjecaj standardizacije značajki kod SVM-a"
   ]
  },
  {
   "cell_type": "markdown",
   "metadata": {},
   "source": [
    "Iz laboratorijske vježbe na temu regresije, sjećamo se da značajke različitih skala mogu onemogućiti interpretaciju naučenog modela linearne regresije. Međutim, ovaj problem javlja se kod mnogih modela pa je tako skoro uvijek bitno prije treniranja skalirati značajke, kako bi se spriječilo da značajke s većim numeričkim rasponima dominiraju nad onima s manjim numeričkim rasponima. To vrijedi i za SVM, kod kojega skaliranje nerijetko može znatno poboljšati rezultate. Svrha ovog zadataka jest eksperimentalno utvrditi utjecaj skaliranja značajki na točnost SVM-a.\n",
    "\n",
    "Generirat ćemo dvoklasni skup od $N=500$ primjera s $n=2$ značajke, tako da je dimenzija $x_1$ većeg iznosa i većeg raspona od dimenzije $x_0$, te ćemo dodati jedan primjer koji vrijednošću značajke $x_1$ odskače od ostalih primjera:"
   ]
  },
  {
   "cell_type": "code",
   "execution_count": null,
   "metadata": {},
   "outputs": [],
   "source": [
    "from sklearn.datasets import make_classification\n",
    "\n",
    "X, y = make_classification(n_samples=500,n_features=2,n_classes=2,n_redundant=0,n_clusters_per_class=1, random_state=69)\n",
    "X[:,1] = X[:,1]*100+1000\n",
    "X[0,1] = 3000\n",
    "\n",
    "plot_2d_svc_problem(X, y)"
   ]
  },
  {
   "cell_type": "markdown",
   "metadata": {},
   "source": [
    "#### (a)"
   ]
  },
  {
   "cell_type": "markdown",
   "metadata": {},
   "source": [
    "Proučite funkciju za iscrtavanje histograma [`hist`](http://matplotlib.org/api/pyplot_api.html#matplotlib.pyplot.hist). Prikažite histograme vrijednosti značajki $x_0$ i $x_1$ (ovdje i u sljedećim zadatcima koristite `bins=50`)."
   ]
  },
  {
   "cell_type": "code",
   "execution_count": null,
   "metadata": {
    "collapsed": true
   },
   "outputs": [],
   "source": [
    "# Vaš kôd ovdje..."
   ]
  },
  {
   "cell_type": "markdown",
   "metadata": {},
   "source": [
    "#### (b)"
   ]
  },
  {
   "cell_type": "markdown",
   "metadata": {},
   "source": [
    "Proučite razred [`preprocessing.MinMaxScaler`](http://scikit-learn.org/stable/modules/generated/sklearn.preprocessing.MinMaxScaler.html). Prikažite histograme vrijednosti značajki $x_0$ i $x_1$ ako su iste skalirane min-max skaliranjem (ukupno dva histograma)."
   ]
  },
  {
   "cell_type": "code",
   "execution_count": null,
   "metadata": {
    "collapsed": true
   },
   "outputs": [],
   "source": [
    "from sklearn.preprocessing import MinMaxScaler\n",
    "\n",
    "# Vaš kôd ovdje..."
   ]
  },
  {
   "cell_type": "markdown",
   "metadata": {},
   "source": [
    "**Q:** Kako radi ovo skaliranje? <br>\n",
    "**Q:** Dobiveni histogrami su vrlo slični. U čemu je razlika? <br>"
   ]
  },
  {
   "cell_type": "markdown",
   "metadata": {},
   "source": [
    "#### (c)"
   ]
  },
  {
   "cell_type": "markdown",
   "metadata": {},
   "source": [
    "Proučite razred [`preprocessing.StandardScaler`](http://scikit-learn.org/stable/modules/generated/sklearn.preprocessing.StandardScaler.html). Prikažite histograme vrijednosti značajki $x_0$ i $x_1$ ako su iste skalirane standardnim skaliranjem (ukupno dva histograma)."
   ]
  },
  {
   "cell_type": "code",
   "execution_count": null,
   "metadata": {
    "collapsed": true
   },
   "outputs": [],
   "source": [
    "from sklearn.preprocessing import StandardScaler\n",
    "\n",
    "# Vaš kôd ovdje..."
   ]
  },
  {
   "cell_type": "markdown",
   "metadata": {},
   "source": [
    "**Q:** Kako radi ovo skaliranje? <br>\n",
    "**Q:** Dobiveni histogrami su vrlo slični. U čemu je razlika? <br>"
   ]
  },
  {
   "cell_type": "markdown",
   "metadata": {},
   "source": [
    "#### (d)"
   ]
  },
  {
   "cell_type": "markdown",
   "metadata": {},
   "source": [
    "Podijelite skup primjera na skup za učenje i skup za ispitivanje u omjeru 1:1. Trenirajte SVM s jezgrenom funkcijom RBF na skupu za učenje i ispitajte točnost modela na skupu za ispitivanje, koristeći tri varijante gornjeg skupa: neskalirane značajke, standardizirane značajke i min-max skaliranje. Koristite podrazumijevane vrijednosti za $C$ i $\\gamma$. Izmjerite točnost svakog od triju modela na skupu za učenje i skupu za ispitivanje. Ponovite postupak više puta (npr. 30) te uprosječite rezultate (u svakom ponavljanju generirajte podatke kao što je dano na početku ovog zadatka).\n",
    "\n",
    "**NB:** Na skupu za učenje treba najprije izračunati parametre skaliranja te zatim primijeniti skaliranje (funkcija `fit_transform`), dok na skupu za ispitivanje treba samo primijeniti skaliranje s parametrima koji su dobiveni na skupu za učenje (funkcija `transform`)."
   ]
  },
  {
   "cell_type": "code",
   "execution_count": null,
   "metadata": {
    "collapsed": true
   },
   "outputs": [],
   "source": [
    "# Vaš kôd ovdje..."
   ]
  },
  {
   "cell_type": "markdown",
   "metadata": {},
   "source": [
    "**Q:** Jesu li rezultati očekivani? Obrazložite. <br>\n",
    "**Q:** Bi li bilo dobro kada bismo funkciju `fit_transform` primijenili na cijelom skupu podataka? Zašto? Bi li bilo dobro kada bismo tu funkciju primijenili zasebno na skupu za učenje i zasebno na skupu za ispitivanje? Zašto?"
   ]
  },
  {
   "cell_type": "markdown",
   "metadata": {},
   "source": [
    "### 5. Algoritam k-najbližih susjeda"
   ]
  },
  {
   "cell_type": "markdown",
   "metadata": {},
   "source": [
    "U ovom zadatku promatrat ćemo jednostavan klasifikacijski model imena **algoritam k-najbližih susjeda**. Najprije ćete ga samostalno isprogramirati kako biste se detaljno upoznali s radom ovog modela, a zatim ćete prijeći na analizu njegovih hiperparametara (koristeći ugrađeni razred, radi efikasnosti)."
   ]
  },
  {
   "cell_type": "markdown",
   "metadata": {},
   "source": [
    "#### (a)"
   ]
  },
  {
   "cell_type": "markdown",
   "metadata": {},
   "source": [
    "Implementirajte klasu `KNN`, koja implementira algoritam $k$ najbližih susjeda. Neobavezan parametar konstruktora jest broj susjeda `n_neighbours` ($k$), čija je podrazumijevana vrijednost 3. Definirajte metode `fit(X, y)` i `predict(X)`, koje služe za učenje modela odnosno predikciju. Kao mjeru udaljenosti koristite euklidsku udaljenost ([`numpy.linalg.norm`](https://numpy.org/doc/stable/reference/generated/numpy.linalg.norm.html); pripazite na parametar `axis`). Nije potrebno implementirati nikakvu težinsku funkciju."
   ]
  },
  {
   "cell_type": "code",
   "execution_count": null,
   "metadata": {
    "collapsed": true
   },
   "outputs": [],
   "source": [
    "from numpy.linalg import norm\n",
    "\n",
    "class KNN:\n",
    "    def __init__(self, n_neighbors=3):\n",
    "        # Vaš kôd ovdje...\n",
    "                \n",
    "    def fit(self, X_train, y_train):\n",
    "        # Vaš kôd ovdje...\n",
    "        \n",
    "    def predict(self, X_test):\n",
    "        # Vaš kôd ovdje..."
   ]
  },
  {
   "cell_type": "markdown",
   "metadata": {},
   "source": [
    "#### (b)"
   ]
  },
  {
   "cell_type": "markdown",
   "metadata": {},
   "source": [
    "Kako biste se uvjerili da je Vaša implementacija ispravna, usporedite ju s onom u razredu [`neighbors.KNeighborsClassifier`](http://scikit-learn.org/stable/modules/generated/sklearn.neighbors.KNeighborsClassifier.html). Budući da spomenuti razred koristi razne optimizacijske trikove pri pronalasku najbližih susjeda, obavezno postavite parametar `algorithm=brute`, jer bi se u protivnom moglo dogoditi da vam se predikcije razlikuju. Usporedite modele na danom (umjetnom) skupu podataka (prisjetite se kako se uspoređuju polja; [`numpy.all`](https://numpy.org/doc/stable/reference/generated/numpy.all.html))."
   ]
  },
  {
   "cell_type": "code",
   "execution_count": null,
   "metadata": {
    "collapsed": true
   },
   "outputs": [],
   "source": [
    "from sklearn.datasets import make_classification\n",
    "X_art, y_art = make_classification(n_samples=100, n_features=2, n_classes=2, \n",
    "                                   n_redundant=0, n_clusters_per_class=2,\n",
    "                                   random_state=69)\n",
    "plot_2d_clf_problem(X_art, y_art)"
   ]
  },
  {
   "cell_type": "code",
   "execution_count": null,
   "metadata": {
    "collapsed": true
   },
   "outputs": [],
   "source": [
    "from sklearn.neighbors import KNeighborsClassifier\n",
    "\n",
    "# Vaš kôd ovdje..."
   ]
  },
  {
   "cell_type": "markdown",
   "metadata": {},
   "source": [
    "### 6. Utjecaj hiperparametra *k*"
   ]
  },
  {
   "cell_type": "markdown",
   "metadata": {},
   "source": [
    "Algoritam k-nn ima hiperparametar $k$ (broj susjeda). Taj hiperparametar izravno utječe na složenost algoritma, pa je stoga izrazito važno dobro odabrati njegovu vrijednost. Kao i kod mnogih drugih algoritama, tako i kod algoritma k-nn optimalna vrijednost hiperametra $k$ ovisi o konkretnom problemu, uključivo broju primjera $N$, broju značajki (dimenzija) $n$ te broju klasa $K$. \n",
    "\n",
    "Kako bismo dobili pouzdanije rezultate, potrebno je neke od eksperimenata ponoviti na različitim skupovima podataka i zatim uprosječiti dobivene vrijednosti pogrešaka. Koristite funkciju: `knn_eval` koja trenira i ispituje model k-najbližih susjeda na ukupno `n_instances` primjera, i to tako da za svaku vrijednost hiperparametra iz zadanog intervala `k_range` ponovi `n_trials` mjerenja, generirajući za svako od njih nov skup podataka i dijeleći ga na skup za učenje i skup za ispitivanje. Udio skupa za ispitivanje definiran je parametrom `test_size`. Povratna vrijednost funkcije jest četvorka `(ks, best_k, train_errors, test_errors)`. Vrijednost `best_k` je optimalna vrijednost hiperparametra $k$ (vrijednost za koju je pogreška na skupu za ispitivanje najmanja). Vrijednosti `train_errors` i `test_errors`  liste su pogrešaka na skupu za učenja odnosno skupu za testiranje za sve razmatrane vrijednosti hiperparametra $k$, dok `ks` upravo pohranjuje sve razmatrane vrijednosti hiperparametra $k$."
   ]
  },
  {
   "cell_type": "markdown",
   "metadata": {},
   "source": [
    "#### (a)\n",
    "\n",
    "Na podatcima iz zadatka 5, pomoću funkcije `plot_2d_clf_problem` iscrtajte prostor primjera i područja koja odgovaraju prvoj odnosno drugoj klasi. Ponovite ovo za $k\\in[1, 5, 20, 100]$. \n",
    "\n",
    "**NB:** Implementacija algoritma `KNeighborsClassifier` iz paketa `scikit-learn` vjerojatno će raditi brže od Vaše implementacije, pa u preostalim eksperimentima koristite nju."
   ]
  },
  {
   "cell_type": "code",
   "execution_count": null,
   "metadata": {
    "collapsed": true
   },
   "outputs": [],
   "source": [
    "# Vaš kôd ovdje..."
   ]
  },
  {
   "cell_type": "markdown",
   "metadata": {},
   "source": [
    "**Q:** Kako $k$ utječe na izgled granice između klasa?  \n",
    "**Q:** Kako se algoritam ponaša u ekstremnim situacijama: $k=1$ i $k=100$?"
   ]
  },
  {
   "cell_type": "markdown",
   "metadata": {},
   "source": [
    "#### (b)"
   ]
  },
  {
   "cell_type": "markdown",
   "metadata": {},
   "source": [
    "Pomoću funkcije `knn_eval`, iscrtajte pogreške učenja i ispitivanja kao funkcije hiperparametra $k\\in\\{1,\\dots,20\\}$, za $N=\\{100, 250, 750\\}$ primjera. Načinite 3 zasebna grafikona. Za svaki ispišite optimalnu vrijednost hiperparametra $k$ (najlakše kao naslov grafikona; vidi [`plt.title`](https://matplotlib.org/devdocs/api/_as_gen/matplotlib.pyplot.title.html))."
   ]
  },
  {
   "cell_type": "code",
   "execution_count": null,
   "metadata": {
    "collapsed": true
   },
   "outputs": [],
   "source": [
    "# Vaš kôd ovdje..."
   ]
  },
  {
   "cell_type": "markdown",
   "metadata": {},
   "source": [
    "**Q:** Kako se mijenja optimalna vrijednost hiperparametra $k$ s obzirom na broj primjera $N$? Zašto?  \n",
    "**Q:** Kojem području odgovara prenaučenost, a kojem podnaučenost modela? Zašto?  \n",
    "**Q:** Je li uvijek moguće doseći pogrešku od 0 na skupu za učenje?"
   ]
  },
  {
   "cell_type": "markdown",
   "metadata": {},
   "source": [
    "### 7. Nebitne značajke"
   ]
  },
  {
   "cell_type": "markdown",
   "metadata": {},
   "source": [
    "Kako bismo provjerili u kojoj je mjeri algoritam k-najbližih susjeda osjetljiv na prisustvo nebitnih značajki, možemo iskoristiti funkciju [`datasets.make_classification`](http://scikit-learn.org/stable/modules/generated/sklearn.datasets.make_classification.html) kako bismo generirali skup primjera kojemu su neke od značajki nebitne. Naime, parametar `n_informative` određuje broj bitnih značajki, dok parametar `n_features` određuje ukupan broj značajki. Ako je `n_features > n_informative`, onda će neke od značajki biti nebitne. Umjesto da izravno upotrijebimo funkciju `make_classification`, upotrijebit ćemo funkciju `knn_eval`, koja samo preuzime ove parametre, ali nam omogućuje pouzdanije procjene.\n",
    "\n",
    "Koristite funkciju `mlutils.knn_eval` na dva načina. U oba koristite $N=1000$ primjera, $n=10$ značajki i $K=5$ klasa, ali za prvi neka su svih 10 značajki bitne, a za drugi neka je bitno samo 5 od 10 značajki. Ispišite pogreške učenja i ispitivanja za oba modela za optimalnu vrijednost $k$ (vrijednost za koju je ispitna pogreška najmanja)."
   ]
  },
  {
   "cell_type": "code",
   "execution_count": null,
   "metadata": {
    "collapsed": true
   },
   "outputs": [],
   "source": [
    "# Vaš kôd ovdje..."
   ]
  },
  {
   "cell_type": "markdown",
   "metadata": {},
   "source": [
    "**Q:** Je li algoritam k-najbližih susjeda osjetljiv na nebitne značajke? Zašto?  \n",
    "**Q:** Je li ovaj problem izražen i kod ostalih modela koje smo dosad radili (npr. logistička regresija)?  \n",
    "**Q:** Kako bi se model k-najbližih susjeda ponašao na skupu podataka sa značajkama različitih skala? Detaljno pojasnite."
   ]
  },
  {
   "cell_type": "markdown",
   "metadata": {},
   "source": [
    "### 8. \"Prokletstvo dimenzionalnosti\""
   ]
  },
  {
   "cell_type": "markdown",
   "metadata": {},
   "source": [
    "\"Prokletstvo dimenzionalnosti\" zbirni je naziv za niz fenomena povezanih s visokodimenzijskim prostorima. Ti fenomeni, koji se uglavnom protive našoj intuiciji, u većini slučajeva dovode do toga da se s porastom broja dimenzija (značajki) smanjenje točnost modela."
   ]
  },
  {
   "cell_type": "markdown",
   "metadata": {},
   "source": [
    "Općenito, povećanje dimenzija dovodi do toga da sve točke u ulaznome prostoru postaju (u smislu euklidske udaljenosti) sve udaljenije jedne od drugih te se, posljedično, gube razlike u udaljenostima između točaka. Eksperimentalno ćemo provjeriti da je to doista slučaj. Proučite funkciju [`metrics.pairwise_distances`](http://scikit-learn.org/stable/modules/generated/sklearn.metrics.pairwise_distances.html). Generirajte 100 slučajnih vektora u različitim dimenzijama $n\\in[1,2,\\ldots,50]$ dimenzija te izračunajte *prosječnu* euklidsku udaljenost između svih parova tih vektora. Za generiranje slučajnih vektora koristite funkciju [`numpy.random.random`](https://numpy.org/doc/stable/reference/random/generated/numpy.random.random.html). Na istom grafu skicirajte i krivulju za prosječne kosinusne udaljenosti (parametar `metric`)."
   ]
  },
  {
   "cell_type": "code",
   "execution_count": null,
   "metadata": {
    "collapsed": true
   },
   "outputs": [],
   "source": [
    "from sklearn.metrics.pairwise import pairwise_distances\n",
    "\n",
    "# Vaš kôd ovdje..."
   ]
  },
  {
   "cell_type": "markdown",
   "metadata": {},
   "source": [
    "**Q:** Pokušajte objasniti razlike u rezultatima. Koju biste od ovih dviju mjera koristili za klasifikaciju visokodimenzijskih podataka?  \n",
    "**Q:** Zašto je ovaj problem osobito izražen kod algoritma k-najbližih susjeda?"
   ]
  }
 ],
 "metadata": {
  "anaconda-cloud": {},
  "kernelspec": {
   "display_name": "Python 3 (ipykernel)",
   "language": "python",
   "name": "python3"
  },
  "language_info": {
   "codemirror_mode": {
    "name": "ipython",
    "version": 3
   },
   "file_extension": ".py",
   "mimetype": "text/x-python",
   "name": "python",
   "nbconvert_exporter": "python",
   "pygments_lexer": "ipython3",
   "version": "3.10.6"
  }
 },
 "nbformat": 4,
 "nbformat_minor": 2
}
